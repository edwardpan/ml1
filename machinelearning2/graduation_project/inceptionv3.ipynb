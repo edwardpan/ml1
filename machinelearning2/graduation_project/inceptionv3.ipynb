{
 "cells": [
  {
   "cell_type": "code",
   "execution_count": 1,
   "metadata": {},
   "outputs": [
    {
     "name": "stderr",
     "output_type": "stream",
     "text": [
      "Using TensorFlow backend.\n"
     ]
    }
   ],
   "source": [
    "import numpy as np\n",
    "np.random.seed(19906)\n",
    "import pandas as pd\n",
    "import matplotlib.pyplot as plt\n",
    "from tqdm import tqdm\n",
    "from keras.preprocessing import image\n",
    "import cv2\n",
    "import os\n",
    "%matplotlib inline\n",
    "from keras.preprocessing.image import ImageDataGenerator, array_to_img, img_to_array, load_img\n",
    "from keras.callbacks import EarlyStopping\n",
    "from keras.models import Model\n",
    "from keras.layers import Dense, GlobalAveragePooling2D, BatchNormalization, Activation\n",
    "from keras.layers.core import Dropout\n",
    "from keras.optimizers import Adam, SGD, RMSprop\n",
    "from keras.regularizers import l2"
   ]
  },
  {
   "cell_type": "code",
   "execution_count": 2,
   "metadata": {},
   "outputs": [],
   "source": [
    "def get_im_cv2(path):\n",
    "    img = cv2.imread(path)\n",
    "    img = cv2.cvtColor(img, cv2.COLOR_BGR2RGB)\n",
    "    return img"
   ]
  },
  {
   "cell_type": "markdown",
   "metadata": {},
   "source": [
    "使用InceptionV3模型"
   ]
  },
  {
   "cell_type": "code",
   "execution_count": 3,
   "metadata": {},
   "outputs": [],
   "source": [
    "from keras.applications.inception_v3 import InceptionV3, preprocess_input"
   ]
  },
  {
   "cell_type": "markdown",
   "metadata": {},
   "source": [
    "选择作为验证集的司机ID"
   ]
  },
  {
   "cell_type": "code",
   "execution_count": 4,
   "metadata": {},
   "outputs": [
    {
     "name": "stdout",
     "output_type": "stream",
     "text": [
      "选择作为验证集的司机ID: ['p041' 'p056']\n"
     ]
    }
   ],
   "source": [
    "drivers_pd = pd.read_csv(\"data/drivers_img_nop081_list.csv\")\n",
    "imgs_pd = drivers_pd[\"img\"]\n",
    "class_pd = drivers_pd[\"classname\"]\n",
    "subject_pd = drivers_pd[\"subject\"]\n",
    "choices = np.random.choice(drivers_pd[\"subject\"].drop_duplicates(), 2)\n",
    "print(\"选择作为验证集的司机ID:\", choices)"
   ]
  },
  {
   "cell_type": "markdown",
   "metadata": {},
   "source": [
    "按选择的司机ID分割训练集和验证集"
   ]
  },
  {
   "cell_type": "code",
   "execution_count": 5,
   "metadata": {},
   "outputs": [
    {
     "name": "stdout",
     "output_type": "stream",
     "text": [
      "分割的训练集数量: 20925 ，验证集数量: 1399\n"
     ]
    }
   ],
   "source": [
    "val_index = []\n",
    "for choice in choices:\n",
    "    val_index.extend(subject_pd[subject_pd == choice].index.tolist())\n",
    "    \n",
    "test_mask = np.zeros(np.alen(subject_pd), dtype=np.bool)\n",
    "for val_i in val_index:\n",
    "    test_mask[val_i] = True\n",
    "    \n",
    "train_index = subject_pd[np.logical_not(test_mask)].index\n",
    "print(\"分割的训练集数量:\", np.alen(train_index), \"，验证集数量:\", np.alen(val_index))"
   ]
  },
  {
   "cell_type": "markdown",
   "metadata": {},
   "source": [
    "读取被数据增强处理的图片"
   ]
  },
  {
   "cell_type": "code",
   "execution_count": 7,
   "metadata": {},
   "outputs": [],
   "source": [
    "drivers_aug_pd = pd.read_csv(\"data/drivers_img_aug_list.csv\")\n",
    "imgs_aug_pd = drivers_aug_pd[\"img\"]\n",
    "class_aug_pd = drivers_aug_pd[\"classname\"]\n",
    "subject_aug_pd = drivers_aug_pd[\"subject\"]"
   ]
  },
  {
   "cell_type": "code",
   "execution_count": 8,
   "metadata": {},
   "outputs": [
    {
     "name": "stdout",
     "output_type": "stream",
     "text": [
      "从增强数据集中分割的训练集数量: 20925\n"
     ]
    }
   ],
   "source": [
    "exclude_index = []\n",
    "for choice in choices:\n",
    "    exclude_index.extend(subject_aug_pd[subject_aug_pd == choice].index.tolist())\n",
    "test_aug_mask = np.zeros(np.alen(subject_aug_pd), dtype=np.bool)\n",
    "for val_i in exclude_index:\n",
    "    test_aug_mask[val_i] = True\n",
    "    \n",
    "train_aug_index = subject_aug_pd[np.logical_not(test_aug_mask)].index\n",
    "print(\"从增强数据集中分割的训练集数量:\", np.alen(train_aug_index))"
   ]
  },
  {
   "cell_type": "markdown",
   "metadata": {},
   "source": [
    "创建图像数据处理目录"
   ]
  },
  {
   "cell_type": "code",
   "execution_count": 9,
   "metadata": {},
   "outputs": [],
   "source": [
    "import os\n",
    "import shutil\n",
    "\n",
    "def rmrf_mkdir(dirname):\n",
    "    if os.path.exists(dirname):\n",
    "        shutil.rmtree(dirname)\n",
    "    os.mkdir(dirname)\n",
    "    \n",
    "train_dir = \"data/imgs/train2\"\n",
    "val_dir = \"data/imgs/val2\"\n",
    "origin_test_dir = \"data/imgs/test\"\n",
    "test_dir = \"data/imgs/test1\"\n",
    "saved_weights = \"saved_weights\"\n",
    "if not os.path.exists(saved_weights):\n",
    "    os.mkdir(saved_weights)\n",
    "    \n",
    "# 因为加载测试集时目录中也需要有子目录，将data/imgs/test目录软链接到data/imgs/test1/test\n",
    "if not os.path.exists(test_dir):\n",
    "    os.mkdir(test_dir)\n",
    "    os.symlink('../test', test_dir+\"/test\")\n",
    "\n",
    "# 在新的训练或验证集目录中为图片创建到原位置的链接\n",
    "def link_imgs(target_dir, X, y):\n",
    "    for img_name, target in zip(X, y):\n",
    "        symlink_dir = os.path.join(target_dir, target)\n",
    "        if not os.path.exists(symlink_dir):\n",
    "            os.mkdir(symlink_dir)\n",
    "        os.symlink('../../train/'+target+'/'+img_name, symlink_dir+'/'+img_name)\n",
    "        \n",
    "def link_aug_imgs(target_dir, X, y):\n",
    "    for img_name, target in zip(X, y):\n",
    "        symlink_dir = os.path.join(target_dir, target)\n",
    "        if not os.path.exists(symlink_dir):\n",
    "            os.mkdir(symlink_dir)\n",
    "        os.symlink('../../train_aug/'+target+'/'+img_name, symlink_dir+'/'+img_name)"
   ]
  },
  {
   "cell_type": "markdown",
   "metadata": {},
   "source": [
    "图片预处理"
   ]
  },
  {
   "cell_type": "code",
   "execution_count": 10,
   "metadata": {},
   "outputs": [],
   "source": [
    "# 训练集图像生成器\n",
    "train_datagen = ImageDataGenerator(\n",
    "    preprocessing_function=preprocess_input,\n",
    "    rotation_range=10.,\n",
    "    width_shift_range=0.05,\n",
    "    height_shift_range=0.05,\n",
    "    shear_range=0.1,\n",
    "    zoom_range=0.1,\n",
    "    rescale=1./255\n",
    ")\n",
    "\n",
    "# 验证集图像生成器\n",
    "val_datagen = ImageDataGenerator(\n",
    "    preprocessing_function=preprocess_input,\n",
    "    rescale=1./255)"
   ]
  },
  {
   "cell_type": "markdown",
   "metadata": {},
   "source": [
    "数据准备"
   ]
  },
  {
   "cell_type": "code",
   "execution_count": 11,
   "metadata": {},
   "outputs": [],
   "source": [
    "# 图像生成器输出的图像大小\n",
    "out_image_size = (299, 299)\n",
    "batch_size = 96"
   ]
  },
  {
   "cell_type": "code",
   "execution_count": 12,
   "metadata": {},
   "outputs": [
    {
     "name": "stdout",
     "output_type": "stream",
     "text": [
      "Found 41850 images belonging to 10 classes.\n",
      "Found 1399 images belonging to 10 classes.\n"
     ]
    }
   ],
   "source": [
    "# 删除上次K折循环分离出的训练集和验证集文件，并重新创建目录\n",
    "rmrf_mkdir(train_dir)\n",
    "rmrf_mkdir(val_dir)\n",
    "\n",
    "X_train, X_val = imgs_pd[train_index], imgs_pd[val_index]\n",
    "y_train, y_val = class_pd[train_index], class_pd[val_index]\n",
    "\n",
    "# 链接训练集到新的目录中\n",
    "link_imgs(train_dir, X_train, y_train)\n",
    "\n",
    "# 链接增强训练集到新的目录中\n",
    "X_aug_train, y_aug_train = imgs_aug_pd[train_aug_index], class_aug_pd[train_aug_index]\n",
    "link_aug_imgs(train_dir, X_aug_train, y_aug_train)\n",
    "\n",
    "# 链接验证集到新的目录中\n",
    "link_imgs(val_dir, X_val, y_val)\n",
    "\n",
    "train_generator = train_datagen.flow_from_directory(\n",
    "    train_dir,\n",
    "    target_size=out_image_size,\n",
    "    batch_size=batch_size,\n",
    "    shuffle=True,\n",
    "    class_mode='categorical')\n",
    "\n",
    "val_generator = val_datagen.flow_from_directory(\n",
    "    val_dir,\n",
    "    target_size=out_image_size,\n",
    "    batch_size=batch_size,\n",
    "    shuffle=True,\n",
    "    class_mode='categorical')"
   ]
  },
  {
   "cell_type": "markdown",
   "metadata": {},
   "source": [
    "构建模型"
   ]
  },
  {
   "cell_type": "code",
   "execution_count": 16,
   "metadata": {},
   "outputs": [],
   "source": [
    "base_model = InceptionV3(weights='imagenet', include_top=False)\n",
    "\n",
    "x = base_model.output\n",
    "x = GlobalAveragePooling2D()(x)\n",
    "x = Dropout(0.5)(x)\n",
    "predictions = Dense(10, activation='softmax', kernel_regularizer=l2(0.01))(x)\n",
    "\n",
    "model = Model(inputs=base_model.input, outputs=predictions, name=base_model.name)\n",
    "\n",
    "op = Adam(lr=0.0003)\n",
    "model.compile(optimizer=op, loss='categorical_crossentropy', metrics=['accuracy'])"
   ]
  },
  {
   "cell_type": "markdown",
   "metadata": {},
   "source": [
    "开始训练"
   ]
  },
  {
   "cell_type": "code",
   "execution_count": 17,
   "metadata": {},
   "outputs": [
    {
     "name": "stdout",
     "output_type": "stream",
     "text": [
      "Epoch 1/20\n",
      "436/436 [==============================] - 1130s 3s/step - loss: 0.2782 - acc: 0.9572 - val_loss: 0.2173 - val_acc: 0.9535\n",
      "Epoch 2/20\n",
      "436/436 [==============================] - 1100s 3s/step - loss: 0.0694 - acc: 0.9942 - val_loss: 0.2025 - val_acc: 0.9357\n",
      "Epoch 3/20\n",
      "436/436 [==============================] - 1103s 3s/step - loss: 0.0398 - acc: 0.9955 - val_loss: 0.1046 - val_acc: 0.9650\n",
      "Epoch 4/20\n",
      "436/436 [==============================] - 1092s 3s/step - loss: 0.0379 - acc: 0.9946 - val_loss: 0.3438 - val_acc: 0.9035\n",
      "Epoch 5/20\n",
      "436/436 [==============================] - 1111s 3s/step - loss: 0.0317 - acc: 0.9960 - val_loss: 0.0989 - val_acc: 0.9743\n",
      "Epoch 6/20\n",
      "436/436 [==============================] - 1127s 3s/step - loss: 0.0252 - acc: 0.9968 - val_loss: 0.5372 - val_acc: 0.8713\n",
      "Epoch 7/20\n",
      "436/436 [==============================] - 1117s 3s/step - loss: 0.0260 - acc: 0.9964 - val_loss: 1.9505 - val_acc: 0.6154\n",
      "Epoch 8/20\n",
      "436/436 [==============================] - 1094s 3s/step - loss: 0.0276 - acc: 0.9962 - val_loss: 0.2541 - val_acc: 0.9128\n",
      "Epoch 00008: early stopping\n"
     ]
    }
   ],
   "source": [
    "# 训练代数\n",
    "epochs = 20\n",
    "\n",
    "callbacks = [EarlyStopping(monitor=\"val_loss\", verbose=1, mode=\"min\", \n",
    "                              min_delta=0.0003, patience=3)]\n",
    "\n",
    "history = model.fit_generator(\n",
    "    train_generator,\n",
    "    epochs=epochs,\n",
    "    callbacks=callbacks,\n",
    "    validation_data=val_generator)"
   ]
  },
  {
   "cell_type": "markdown",
   "metadata": {},
   "source": [
    "训练结果处理"
   ]
  },
  {
   "cell_type": "code",
   "execution_count": 18,
   "metadata": {},
   "outputs": [
    {
     "name": "stdout",
     "output_type": "stream",
     "text": [
      "model name: inception_v3 , will save weight file: saved_weights/inception_v3.h5\n"
     ]
    }
   ],
   "source": [
    "# 保存权重\n",
    "save_file = saved_weights + '/' + model.name + '.h5'\n",
    "print(\"model name:\", model.name, \", will save weight file:\", save_file)\n",
    "model.save_weights(save_file)"
   ]
  },
  {
   "cell_type": "code",
   "execution_count": 19,
   "metadata": {
    "scrolled": true
   },
   "outputs": [
    {
     "data": {
      "image/png": "[encoded data removed]",
      "text/plain": [
       "<Figure size 864x288 with 2 Axes>"
      ]
     },
     "metadata": {},
     "output_type": "display_data"
    }
   ],
   "source": [
    "# 绘制图型\n",
    "plt.figure(figsize=(12, 4))\n",
    "\n",
    "plt.subplot(1, 2, 1)\n",
    "plt.title('Training and validation loss')\n",
    "plt.ylabel('loss')\n",
    "plt.xlabel('epoch')\n",
    "plt.plot(history.history['loss'])\n",
    "plt.plot(history.history['val_loss'])\n",
    "plt.legend(['train', 'test'], loc='upper left')\n",
    "\n",
    "plt.subplot(1, 2, 2)\n",
    "plt.plot(history.history['acc'])\n",
    "plt.plot(history.history['val_acc'])\n",
    "plt.title('Training and validation acc')\n",
    "plt.ylabel('acc')\n",
    "plt.xlabel('epoch')\n",
    "plt.legend(['train', 'test'], loc='upper left')\n",
    "\n",
    "plt.show()"
   ]
  },
  {
   "cell_type": "markdown",
   "metadata": {},
   "source": [
    "使用低学习率SGD，再训练，让模型收敛"
   ]
  },
  {
   "cell_type": "code",
   "execution_count": 20,
   "metadata": {},
   "outputs": [],
   "source": [
    "fine_tuning_layer = 172\n",
    "\n",
    "# for layer in model.layers[:fine_tuning_layer]:\n",
    "#     layer.trainable = False\n",
    "# for layer in model.layers[fine_tuning_layer:]:\n",
    "#     layer.trainable = True\n",
    "    \n",
    "op = SGD(lr=0.00001, decay=1e-8, momentum=0.9, nesterov=True)\n",
    "model.compile(optimizer=op, loss='categorical_crossentropy', metrics=['accuracy'])"
   ]
  },
  {
   "cell_type": "code",
   "execution_count": 21,
   "metadata": {},
   "outputs": [
    {
     "name": "stdout",
     "output_type": "stream",
     "text": [
      "WARNING:tensorflow:Variable *= will be deprecated. Use variable.assign_mul if you want assignment to the variable value or 'x = x * y' if you want a new python Tensor object.\n",
      "Epoch 1/10\n",
      "436/436 [==============================] - 1119s 3s/step - loss: 0.0176 - acc: 0.9988 - val_loss: 0.1157 - val_acc: 0.9557\n",
      "Epoch 2/10\n",
      "436/436 [==============================] - 1097s 3s/step - loss: 0.0176 - acc: 0.9986 - val_loss: 0.1146 - val_acc: 0.9557\n",
      "Epoch 3/10\n",
      "436/436 [==============================] - 1134s 3s/step - loss: 0.0174 - acc: 0.9987 - val_loss: 0.1092 - val_acc: 0.9585\n",
      "Epoch 4/10\n",
      "436/436 [==============================] - 1131s 3s/step - loss: 0.0173 - acc: 0.9988 - val_loss: 0.1141 - val_acc: 0.9557\n",
      "Epoch 5/10\n",
      "436/436 [==============================] - 1113s 3s/step - loss: 0.0172 - acc: 0.9989 - val_loss: 0.1132 - val_acc: 0.9557\n",
      "Epoch 6/10\n",
      "436/436 [==============================] - 1108s 3s/step - loss: 0.0169 - acc: 0.9988 - val_loss: 0.1147 - val_acc: 0.9557\n",
      "Epoch 00006: early stopping\n"
     ]
    }
   ],
   "source": [
    "# 训练代数\n",
    "epochs = 10\n",
    "\n",
    "callbacks = [EarlyStopping(monitor=\"val_loss\", verbose=1, mode=\"min\", \n",
    "                              min_delta=0.0003, patience=3)]\n",
    "\n",
    "history = model.fit_generator(\n",
    "    train_generator,\n",
    "    epochs=epochs,\n",
    "    callbacks=callbacks,\n",
    "    validation_data=val_generator)"
   ]
  },
  {
   "cell_type": "markdown",
   "metadata": {},
   "source": [
    "再次保存最终训练结果权重"
   ]
  },
  {
   "cell_type": "code",
   "execution_count": 22,
   "metadata": {},
   "outputs": [
    {
     "name": "stdout",
     "output_type": "stream",
     "text": [
      "model name: inception_v3 , will save weight file: saved_weights/inception_v3_last.h5\n"
     ]
    }
   ],
   "source": [
    "# 保存权重\n",
    "save_file = saved_weights + '/' + model.name + '_last.h5'\n",
    "print(\"model name:\", model.name, \", will save weight file:\", save_file)\n",
    "model.save_weights(save_file)"
   ]
  },
  {
   "cell_type": "code",
   "execution_count": 23,
   "metadata": {},
   "outputs": [
    {
     "data": {
      "image/png": "[encoded data removed]",
      "text/plain": [
       "<Figure size 864x288 with 2 Axes>"
      ]
     },
     "metadata": {},
     "output_type": "display_data"
    }
   ],
   "source": [
    "# 绘制图型\n",
    "plt.figure(figsize=(12, 4))\n",
    "\n",
    "plt.subplot(1, 2, 1)\n",
    "plt.title('Training and validation loss')\n",
    "plt.ylabel('loss')\n",
    "plt.xlabel('epoch')\n",
    "plt.plot(history.history['loss'])\n",
    "plt.plot(history.history['val_loss'])\n",
    "plt.legend(['train', 'test'], loc='upper left')\n",
    "\n",
    "plt.subplot(1, 2, 2)\n",
    "plt.plot(history.history['acc'])\n",
    "plt.plot(history.history['val_acc'])\n",
    "plt.title('Training and validation acc')\n",
    "plt.ylabel('acc')\n",
    "plt.xlabel('epoch')\n",
    "plt.legend(['train', 'test'], loc='upper left')\n",
    "\n",
    "plt.show()"
   ]
  },
  {
   "cell_type": "markdown",
   "metadata": {},
   "source": [
    "测试预测结果"
   ]
  },
  {
   "cell_type": "code",
   "execution_count": null,
   "metadata": {},
   "outputs": [],
   "source": [
    "test_img_files = os.listdir(\"data/imgs/test1/test\")\n",
    "x_batch = []\n",
    "for i in range(10):\n",
    "    filename = test_img_files[i]\n",
    "    img = load_img('data/imgs/test1/test/' + filename)\n",
    "    x = img_to_array(img)\n",
    "    x_batch.append(x)\n",
    "    \n",
    "x_batch = np.array(x_batch)\n",
    "x_batch = inceptionv3_preinput(x_batch)\n",
    "\n",
    "y_pred = model.predict(x, verbose=1)\n",
    "y_pred = y_pred.clip(min=0.005, max=0.995)\n",
    "print(\"filename:\", filename, \", result:\", y_pred)"
   ]
  },
  {
   "cell_type": "markdown",
   "metadata": {},
   "source": [
    "预测所有测试集，并生成提交kaggle的报告"
   ]
  },
  {
   "cell_type": "code",
   "execution_count": null,
   "metadata": {},
   "outputs": [],
   "source": [
    "model.load_weights(\"saved_weights/inception_v3.h5\")\n",
    "op = SGD(lr=0.00001, decay=30e-8, momentum=0.9, nesterov=True)\n",
    "model.compile(optimizer=op, loss='categorical_crossentropy', metrics=['accuracy'])\n",
    "\n",
    "sub_df = pd.read_csv(\"data/sample_submission.csv\")\n",
    "\n",
    "test_datagen = ImageDataGenerator(preprocessing_function=preprocess_input)\n",
    "pred_batch_size=128\n",
    "\n",
    "test_generator = test_datagen.flow_from_directory(load_test_dir, out_image_size, shuffle=False, \n",
    "                                             batch_size=pred_batch_size, class_mode=None)\n",
    "\n",
    "y_preds = model.predict_generator(test_generator, verbose=1)\n",
    "y_preds = y_preds.clip(min=0.005, max=0.995)\n",
    "print(\"y_pred shape {}\".format(y_preds.shape))\n",
    "\n",
    "for i, fname in enumerate(test_generator.filenames):\n",
    "    y_pred = y_preds[i]\n",
    "    for k, c in enumerate(y_pred):\n",
    "        sub_df.at[i, 'c'+str(k)] = c\n",
    "\n",
    "print(sub_df.head())\n",
    "\n",
    "sub_df.to_csv('data/pred.csv', index=None)\n",
    "print(\"predict done.\")"
   ]
  }
 ],
 "metadata": {
  "anaconda-cloud": {},
  "kernelspec": {
   "display_name": "Environment (conda_tensorflow_p36)",
   "language": "python",
   "name": "conda_tensorflow_p36"
  },
  "language_info": {
   "codemirror_mode": {
    "name": "ipython",
    "version": 3
   },
   "file_extension": ".py",
   "mimetype": "text/x-python",
   "name": "python",
   "nbconvert_exporter": "python",
   "pygments_lexer": "ipython3",
   "version": "3.6.4"
  }
 },
 "nbformat": 4,
 "nbformat_minor": 2
}
