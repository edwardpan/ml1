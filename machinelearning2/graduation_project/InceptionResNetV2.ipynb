{
 "cells": [
  {
   "cell_type": "code",
   "execution_count": 1,
   "metadata": {},
   "outputs": [
    {
     "name": "stderr",
     "output_type": "stream",
     "text": [
      "Using TensorFlow backend.\n"
     ]
    }
   ],
   "source": [
    "import numpy as np\n",
    "np.random.seed(19906)\n",
    "import pandas as pd\n",
    "import matplotlib.pyplot as plt\n",
    "from tqdm import tqdm\n",
    "from keras.preprocessing import image\n",
    "import cv2\n",
    "import os\n",
    "%matplotlib inline\n",
    "from keras.preprocessing.image import ImageDataGenerator, array_to_img, img_to_array, load_img\n",
    "from keras.callbacks import EarlyStopping, ModelCheckpoint\n",
    "from keras.models import Model\n",
    "from keras.layers import Dense, GlobalAveragePooling2D, BatchNormalization, Activation\n",
    "from keras.layers.core import Dropout\n",
    "from keras.optimizers import Adam, SGD, RMSprop\n",
    "from keras.regularizers import l2\n",
    "import split_valid"
   ]
  },
  {
   "cell_type": "markdown",
   "metadata": {},
   "source": [
    "使用InceptionResNetV2模型"
   ]
  },
  {
   "cell_type": "code",
   "execution_count": 2,
   "metadata": {},
   "outputs": [],
   "source": [
    "from keras.applications.inception_resnet_v2 import InceptionResNetV2, preprocess_input"
   ]
  },
  {
   "cell_type": "code",
   "execution_count": 3,
   "metadata": {},
   "outputs": [],
   "source": [
    "train_dir = \"data/imgs/train2\"\n",
    "val_dir = \"data/imgs/val2\"\n",
    "test_dir = \"data/imgs/test1\"\n",
    "saved_weights = \"saved_weights\"\n",
    "if not os.path.exists(saved_weights):\n",
    "    os.mkdir(saved_weights)"
   ]
  },
  {
   "cell_type": "markdown",
   "metadata": {},
   "source": [
    "分割验证集"
   ]
  },
  {
   "cell_type": "code",
   "execution_count": 4,
   "metadata": {},
   "outputs": [],
   "source": [
    "drivers_pd = pd.read_csv(\"data/drivers_img_nop081_list.csv\")\n",
    "imgs_pd = drivers_pd[\"img\"]\n",
    "class_pd = drivers_pd[\"classname\"]\n",
    "subject_pd = drivers_pd[\"subject\"]\n",
    "choices = [\"p026\", \"p052\"]"
   ]
  },
  {
   "cell_type": "code",
   "execution_count": 5,
   "metadata": {},
   "outputs": [
    {
     "name": "stdout",
     "output_type": "stream",
     "text": [
      "选择作为验证集的司机ID: ['p026', 'p052']\n",
      "分割的训练集数量: 20388 ，验证集数量: 1936\n",
      "从增强数据集中分割的训练集数量: 20388\n",
      "link images to directory data/imgs/train2\n",
      "link augmented images to directory data/imgs/train2\n",
      "link images to directory data/imgs/val2\n",
      "split valid data done!\n"
     ]
    }
   ],
   "source": [
    "split_valid.split(choice_ids=choices, \n",
    "                  train_pd_path=\"data/drivers_img_nop081_list.csv\", \n",
    "                  train_aug_pd_path=\"data/drivers_img_aug_list.csv\", \n",
    "                  train_dir=train_dir, \n",
    "                  val_dir=val_dir, \n",
    "                  test_dir=test_dir, \n",
    "                  origin_test_dir=\"data/imgs/test\", \n",
    "                  saved_weights_dir=\"saved_weights\")"
   ]
  },
  {
   "cell_type": "code",
   "execution_count": 6,
   "metadata": {},
   "outputs": [],
   "source": [
    "def get_im_cv2(path):\n",
    "    img = cv2.imread(path)\n",
    "    img = cv2.cvtColor(img, cv2.COLOR_BGR2RGB)\n",
    "    return img"
   ]
  },
  {
   "cell_type": "markdown",
   "metadata": {},
   "source": [
    "图片预处理"
   ]
  },
  {
   "cell_type": "code",
   "execution_count": 7,
   "metadata": {},
   "outputs": [],
   "source": [
    "# 图像生成器输出的图像大小\n",
    "out_image_size = (299, 299)\n",
    "batch_size = 32"
   ]
  },
  {
   "cell_type": "code",
   "execution_count": 8,
   "metadata": {},
   "outputs": [
    {
     "name": "stdout",
     "output_type": "stream",
     "text": [
      "Found 40776 images belonging to 10 classes.\n",
      "Found 1936 images belonging to 10 classes.\n"
     ]
    }
   ],
   "source": [
    "# 训练集图像生成器\n",
    "train_datagen = ImageDataGenerator(\n",
    "    preprocessing_function=preprocess_input,\n",
    "    rotation_range=10.,\n",
    "    width_shift_range=0.05,\n",
    "    height_shift_range=0.05,\n",
    "    shear_range=0.1,\n",
    "    zoom_range=0.1,\n",
    "    rescale=1./255\n",
    ")\n",
    "\n",
    "# 验证集图像生成器\n",
    "val_datagen = ImageDataGenerator(\n",
    "    preprocessing_function=preprocess_input,\n",
    "    rescale=1./255)\n",
    "\n",
    "train_generator = train_datagen.flow_from_directory(\n",
    "    train_dir,\n",
    "    target_size=out_image_size,\n",
    "    batch_size=batch_size,\n",
    "    shuffle=True,\n",
    "    class_mode='categorical')\n",
    "\n",
    "val_generator = val_datagen.flow_from_directory(\n",
    "    val_dir,\n",
    "    target_size=out_image_size,\n",
    "    batch_size=batch_size,\n",
    "    shuffle=True,\n",
    "    class_mode='categorical')"
   ]
  },
  {
   "cell_type": "markdown",
   "metadata": {},
   "source": [
    "构建模型"
   ]
  },
  {
   "cell_type": "code",
   "execution_count": 9,
   "metadata": {},
   "outputs": [],
   "source": [
    "base_model = InceptionResNetV2(weights='imagenet', include_top=False)\n",
    "\n",
    "x = base_model.output\n",
    "x = GlobalAveragePooling2D()(x)\n",
    "x = Dropout(0.5)(x)\n",
    "predictions = Dense(10, activation='softmax', use_bias=False, kernel_regularizer=l2(0.01))(x)\n",
    "\n",
    "model = Model(inputs=base_model.input, outputs=predictions, name=base_model.name)\n",
    "\n",
    "op = Adam(lr=0.00003, decay=1e-8)\n",
    "model.compile(optimizer=op, loss='categorical_crossentropy', metrics=['accuracy'])"
   ]
  },
  {
   "cell_type": "markdown",
   "metadata": {},
   "source": [
    "开始训练"
   ]
  },
  {
   "cell_type": "code",
   "execution_count": 10,
   "metadata": {},
   "outputs": [
    {
     "name": "stdout",
     "output_type": "stream",
     "text": [
      "model name: inception_resnet_v2 , will save weight file: saved_weights/inception_resnet_v2_model.h5\n",
      "WARNING:tensorflow:Variable *= will be deprecated. Use variable.assign_mul if you want assignment to the variable value or 'x = x * y' if you want a new python Tensor object.\n",
      "Epoch 1/20\n",
      "1275/1275 [==============================] - 1883s 1s/step - loss: 0.4755 - acc: 0.9083 - val_loss: 0.3025 - val_acc: 0.9607\n",
      "\n",
      "Epoch 00001: val_loss improved from inf to 0.30252, saving model to saved_weights/inception_resnet_v2_model.h5\n",
      "Epoch 2/20\n",
      "1275/1275 [==============================] - 1117s 876ms/step - loss: 0.1779 - acc: 0.9937 - val_loss: 0.2424 - val_acc: 0.9659\n",
      "\n",
      "Epoch 00002: val_loss improved from 0.30252 to 0.24240, saving model to saved_weights/inception_resnet_v2_model.h5\n",
      "Epoch 3/20\n",
      "1275/1275 [==============================] - 1097s 861ms/step - loss: 0.1213 - acc: 0.9966 - val_loss: 0.2027 - val_acc: 0.9654\n",
      "\n",
      "Epoch 00003: val_loss improved from 0.24240 to 0.20272, saving model to saved_weights/inception_resnet_v2_model.h5\n",
      "Epoch 4/20\n",
      "1275/1275 [==============================] - 1102s 864ms/step - loss: 0.0790 - acc: 0.9969 - val_loss: 0.1363 - val_acc: 0.9773\n",
      "\n",
      "Epoch 00004: val_loss improved from 0.20272 to 0.13631, saving model to saved_weights/inception_resnet_v2_model.h5\n",
      "Epoch 5/20\n",
      "1275/1275 [==============================] - 1110s 870ms/step - loss: 0.0505 - acc: 0.9980 - val_loss: 0.1781 - val_acc: 0.9571\n",
      "\n",
      "Epoch 00005: val_loss did not improve from 0.13631\n",
      "Epoch 6/20\n",
      "1275/1275 [==============================] - 1108s 869ms/step - loss: 0.0394 - acc: 0.9976 - val_loss: 0.1473 - val_acc: 0.9680\n",
      "\n",
      "Epoch 00006: val_loss did not improve from 0.13631\n",
      "Epoch 7/20\n",
      "1275/1275 [==============================] - 1112s 872ms/step - loss: 0.0331 - acc: 0.9978 - val_loss: 0.1262 - val_acc: 0.9747\n",
      "\n",
      "Epoch 00007: val_loss improved from 0.13631 to 0.12615, saving model to saved_weights/inception_resnet_v2_model.h5\n",
      "Epoch 8/20\n",
      "1275/1275 [==============================] - 1105s 867ms/step - loss: 0.0267 - acc: 0.9986 - val_loss: 0.1077 - val_acc: 0.9731\n",
      "\n",
      "Epoch 00008: val_loss improved from 0.12615 to 0.10774, saving model to saved_weights/inception_resnet_v2_model.h5\n",
      "Epoch 9/20\n",
      "1275/1275 [==============================] - 1093s 857ms/step - loss: 0.0261 - acc: 0.9981 - val_loss: 0.2314 - val_acc: 0.9659\n",
      "\n",
      "Epoch 00009: val_loss did not improve from 0.10774\n",
      "Epoch 10/20\n",
      "1275/1275 [==============================] - 1106s 868ms/step - loss: 0.0225 - acc: 0.9987 - val_loss: 0.2403 - val_acc: 0.9654\n",
      "\n",
      "Epoch 00010: val_loss did not improve from 0.10774\n",
      "Epoch 11/20\n",
      "1275/1275 [==============================] - 1109s 870ms/step - loss: 0.0214 - acc: 0.9985 - val_loss: 0.1655 - val_acc: 0.9659\n",
      "\n",
      "Epoch 00011: val_loss did not improve from 0.10774\n",
      "Epoch 12/20\n",
      "1275/1275 [==============================] - 1114s 874ms/step - loss: 0.0211 - acc: 0.9985 - val_loss: 0.2252 - val_acc: 0.9514\n",
      "\n",
      "Epoch 00012: val_loss did not improve from 0.10774\n",
      "Epoch 00012: early stopping\n"
     ]
    }
   ],
   "source": [
    "# 训练代数\n",
    "epochs = 20\n",
    "\n",
    "save_file = saved_weights + '/' + model.name + '_model.h5'\n",
    "print(\"model name:\", model.name, \", will save weight file:\", save_file)\n",
    "callbacks = [\n",
    "    ModelCheckpoint(save_file, monitor=\"val_loss\", mode=\"min\", save_best_only=True, verbose=1, period=1),\n",
    "    EarlyStopping(monitor=\"val_loss\", verbose=1, mode=\"min\", min_delta=0.0005, patience=4)\n",
    "]\n",
    "\n",
    "history = model.fit_generator(\n",
    "    train_generator,\n",
    "    epochs=epochs,\n",
    "    callbacks=callbacks,\n",
    "    validation_data=val_generator)"
   ]
  },
  {
   "cell_type": "markdown",
   "metadata": {},
   "source": [
    "绘制图型"
   ]
  },
  {
   "cell_type": "code",
   "execution_count": 11,
   "metadata": {
    "scrolled": true
   },
   "outputs": [
    {
     "data": {
      "image/png": "[encoded data removed]",
      "text/plain": [
       "<Figure size 864x288 with 2 Axes>"
      ]
     },
     "metadata": {},
     "output_type": "display_data"
    }
   ],
   "source": [
    "# 绘制图型\n",
    "plt.figure(figsize=(12, 4))\n",
    "\n",
    "plt.subplot(1, 2, 1)\n",
    "plt.title('Training and validation loss')\n",
    "plt.ylabel('loss')\n",
    "plt.xlabel('epoch')\n",
    "plt.plot(history.history['loss'])\n",
    "plt.plot(history.history['val_loss'])\n",
    "plt.legend(['train', 'test'], loc='upper left')\n",
    "\n",
    "plt.subplot(1, 2, 2)\n",
    "plt.plot(history.history['acc'])\n",
    "plt.plot(history.history['val_acc'])\n",
    "plt.title('Training and validation acc')\n",
    "plt.ylabel('acc')\n",
    "plt.xlabel('epoch')\n",
    "plt.legend(['train', 'test'], loc='upper left')\n",
    "\n",
    "plt.show()"
   ]
  },
  {
   "cell_type": "markdown",
   "metadata": {},
   "source": [
    "测试预测结果"
   ]
  },
  {
   "cell_type": "code",
   "execution_count": 12,
   "metadata": {},
   "outputs": [],
   "source": [
    "from keras.models import load_model\n",
    "\n",
    "pred_model = load_model(\"saved_weights/inception_resnet_v2_model.h5\")"
   ]
  },
  {
   "cell_type": "markdown",
   "metadata": {},
   "source": [
    "预测所有测试集，并生成提交kaggle的报告"
   ]
  },
  {
   "cell_type": "code",
   "execution_count": 13,
   "metadata": {},
   "outputs": [
    {
     "name": "stdout",
     "output_type": "stream",
     "text": [
      "Found 79726 images belonging to 1 classes.\n"
     ]
    },
    {
     "data": {
      "text/plain": [
       "'test/img_1.jpg'"
      ]
     },
     "execution_count": 13,
     "metadata": {},
     "output_type": "execute_result"
    }
   ],
   "source": [
    "test_datagen = ImageDataGenerator(preprocessing_function=preprocess_input, rescale=1./255)\n",
    "pred_batch_size=128\n",
    "\n",
    "test_generator = test_datagen.flow_from_directory(test_dir, out_image_size, shuffle=False, \n",
    "                                             batch_size=pred_batch_size, class_mode=None)\n",
    "\n",
    "test_generator.filenames[0]"
   ]
  },
  {
   "cell_type": "code",
   "execution_count": 14,
   "metadata": {},
   "outputs": [
    {
     "name": "stdout",
     "output_type": "stream",
     "text": [
      "623/623 [==============================] - 1476s 2s/step\n",
      "y_pred shape (79726, 10)\n",
      "              img        c0     c1     c2     c3     c4     c5     c6     c7  \\\n",
      "0       img_1.jpg  0.005000  0.005  0.005  0.005  0.005  0.995  0.005  0.005   \n",
      "1      img_10.jpg  0.005000  0.005  0.005  0.005  0.005  0.995  0.005  0.005   \n",
      "2     img_100.jpg  0.994416  0.005  0.005  0.005  0.005  0.005  0.005  0.005   \n",
      "3    img_1000.jpg  0.005000  0.005  0.005  0.005  0.005  0.005  0.005  0.005   \n",
      "4  img_100000.jpg  0.005000  0.005  0.005  0.995  0.005  0.005  0.005  0.005   \n",
      "\n",
      "      c8     c9  \n",
      "0  0.005  0.005  \n",
      "1  0.005  0.005  \n",
      "2  0.005  0.005  \n",
      "3  0.995  0.005  \n",
      "4  0.005  0.005  \n",
      "predict done.\n"
     ]
    }
   ],
   "source": [
    "sub_df = pd.read_csv(\"data/sample_submission.csv\")\n",
    "\n",
    "y_preds = pred_model.predict_generator(test_generator, verbose=1)\n",
    "y_preds = y_preds.clip(min=0.005, max=0.995)\n",
    "print(\"y_pred shape {}\".format(y_preds.shape))\n",
    "\n",
    "for i, fname in enumerate(test_generator.filenames):\n",
    "    y_pred = y_preds[i]\n",
    "    for k, c in enumerate(y_pred):\n",
    "        sub_df.at[i, 'c'+str(k)] = c\n",
    "\n",
    "print(sub_df.head())\n",
    "\n",
    "sub_df.to_csv('data/pred_inception_resnet_v2.csv', index=None)\n",
    "print(\"predict done.\")"
   ]
  },
  {
   "cell_type": "markdown",
   "metadata": {},
   "source": [
    "提交到kaggle中后得到成绩：private:  0.32819, public: 0.43092"
   ]
  }
 ],
 "metadata": {
  "anaconda-cloud": {},
  "kernelspec": {
   "display_name": "Environment (conda_tensorflow_p36)",
   "language": "python",
   "name": "conda_tensorflow_p36"
  },
  "language_info": {
   "codemirror_mode": {
    "name": "ipython",
    "version": 3
   },
   "file_extension": ".py",
   "mimetype": "text/x-python",
   "name": "python",
   "nbconvert_exporter": "python",
   "pygments_lexer": "ipython3",
   "version": "3.6.4"
  }
 },
 "nbformat": 4,
 "nbformat_minor": 2
}
