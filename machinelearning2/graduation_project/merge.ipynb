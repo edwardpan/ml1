{
 "cells": [
  {
   "cell_type": "code",
   "execution_count": 126,
   "metadata": {
    "collapsed": true
   },
   "outputs": [],
   "source": [
    "import pandas as pd\n",
    "from pandas import DataFrame, Series\n",
    "import numpy as np\n",
    "from tqdm import tqdm"
   ]
  },
  {
   "cell_type": "code",
   "execution_count": 129,
   "metadata": {
    "collapsed": true
   },
   "outputs": [],
   "source": [
    "inception_v3_df = pd.read_csv(\"data/pred_inception_v3.csv\")\n",
    "inception_resnet_v2_df = pd.read_csv(\"data/pred_inception_resnet_v2.csv\")\n",
    "resnet50_df = pd.read_csv(\"data/pred_resnet50.csv\")\n",
    "xception_df = pd.read_csv(\"data/pred_xception.csv\")\n",
    "mix_df = pd.read_csv(\"data/mix_pred.csv\")"
   ]
  },
  {
   "cell_type": "code",
   "execution_count": 43,
   "metadata": {
    "collapsed": false
   },
   "outputs": [
    {
     "name": "stdout",
     "output_type": "stream",
     "text": [
      "[0.004999999888241291 0.004999999888241291 0.99500000476837158\n",
      " 0.004999999888241291 0.004999999888241291 0.004999999888241291\n",
      " 0.004999999888241291 0.004999999888241291 0.004999999888241291\n",
      " 0.004999999888241291]\n",
      "[0.19713923335075376 0.011285470798611641 0.64479970932006836\n",
      " 0.0093476539477705956 0.020656859502196312 0.014582724310457706\n",
      " 0.021793121472001083 0.010969457216560841 0.046836279332637787\n",
      " 0.022589495405554768]\n"
     ]
    }
   ],
   "source": [
    "print(np.array(inception_v3_df.query(\"img=='img_10004.jpg'\").iloc[0, 1:]))\n",
    "print(np.array(inception_resnet_v2_df.query(\"img=='img_10004.jpg'\").iloc[0, 1:]))"
   ]
  },
  {
   "cell_type": "code",
   "execution_count": 78,
   "metadata": {
    "collapsed": false
   },
   "outputs": [
    {
     "name": "stdout",
     "output_type": "stream",
     "text": [
      "[0.10106961661949752 0.008142735343426466 0.81989985704421997\n",
      " 0.0071738269180059433 0.012828429695218801 0.0097913620993494987\n",
      " 0.013396560680121187 0.0079847285524010658 0.025918139610439539\n",
      " 0.01379474764689803]\n",
      "0.819899857044\n"
     ]
    },
    {
     "data": {
      "text/plain": [
       "array([0.005, 0.005, 0.995, 0.005, 0.005, 0.005, 0.005, 0.005, 0.005, 0.005], dtype=object)"
      ]
     },
     "execution_count": 78,
     "metadata": {},
     "output_type": "execute_result"
    }
   ],
   "source": [
    "values = np.mean(np.array([inception_v3_df.query(\"img=='img_10004.jpg'\").iloc[0, 1:], \n",
    "                  inception_resnet_v2_df.query(\"img=='img_10004.jpg'\").iloc[0, 1:]])\n",
    "        , axis=0)\n",
    "print(values)\n",
    "m = np.amax(values)\n",
    "print(m)\n",
    "for i, v in enumerate(values):\n",
    "    if v < m:\n",
    "        values[i] = 0.005\n",
    "    else:\n",
    "        values[i] = 0.995\n",
    "        \n",
    "values"
   ]
  },
  {
   "cell_type": "code",
   "execution_count": 132,
   "metadata": {
    "collapsed": false
   },
   "outputs": [
    {
     "name": "stderr",
     "output_type": "stream",
     "text": [
      "100%|███████████████████████████████████| 79726/79726 [07:02<00:00, 188.77it/s]\n"
     ]
    }
   ],
   "source": [
    "merged_pd = DataFrame(columns=inception_v3_df.columns)\n",
    "\n",
    "for i in tqdm(inception_v3_df.index.tolist()):\n",
    "    img_name = inception_v3_df.iloc[i, 0]\n",
    "    values = np.mean(np.array([\n",
    "        inception_v3_df.iloc[i, 1:], \n",
    "#         inception_resnet_v2_df.iloc[i, 1:],\n",
    "        xception_df.iloc[i, 1:],\n",
    "        mix_df.iloc[i, 1:]\n",
    "#         resnet50_df.iloc[i, 1:]\n",
    "    ]), axis=0)\n",
    "    m = np.amax(values)\n",
    "    for i, v in enumerate(values):\n",
    "        if v < m:\n",
    "            values[i] = 0.005\n",
    "        else:\n",
    "            values[i] = 0.995\n",
    "    \n",
    "    data = Series(np.concatenate([np.array([img_name]), values]), index=inception_v3_df.columns)\n",
    "    merged_pd = merged_pd.append(data, ignore_index=True)\n",
    "    \n",
    "merged_pd.to_csv('data/pred_merged.csv', index=None)"
   ]
  }
 ],
 "metadata": {
  "anaconda-cloud": {},
  "kernelspec": {
   "display_name": "Python [conda env:dog-project]",
   "language": "python",
   "name": "conda-env-dog-project-py"
  },
  "language_info": {
   "codemirror_mode": {
    "name": "ipython",
    "version": 3
   },
   "file_extension": ".py",
   "mimetype": "text/x-python",
   "name": "python",
   "nbconvert_exporter": "python",
   "pygments_lexer": "ipython3",
   "version": "3.5.3"
  }
 },
 "nbformat": 4,
 "nbformat_minor": 2
}
