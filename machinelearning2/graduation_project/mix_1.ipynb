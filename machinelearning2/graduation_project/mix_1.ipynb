{
 "cells": [
  {
   "cell_type": "code",
   "execution_count": 1,
   "metadata": {},
   "outputs": [
    {
     "name": "stderr",
     "output_type": "stream",
     "text": [
      "Using TensorFlow backend.\n"
     ]
    }
   ],
   "source": [
    "import numpy as np\n",
    "np.random.seed(19906)\n",
    "import pandas as pd\n",
    "import matplotlib.pyplot as plt\n",
    "from tqdm import tqdm\n",
    "from keras.preprocessing import image\n",
    "import cv2\n",
    "import os\n",
    "import h5py\n",
    "%matplotlib inline\n",
    "from keras.preprocessing.image import ImageDataGenerator, array_to_img, img_to_array, load_img\n",
    "from keras.callbacks import EarlyStopping\n",
    "from keras.models import *\n",
    "from keras.layers import *\n",
    "from keras.layers.core import Dropout\n",
    "from keras.optimizers import Adam, SGD, RMSprop\n",
    "from keras.regularizers import l2\n",
    "from keras.applications.inception_v3 import InceptionV3, preprocess_input as inceptionv3_preinput\n",
    "from keras.applications.xception import Xception, preprocess_input as xception_preinput\n",
    "from keras.applications.inception_resnet_v2 import InceptionResNetV2, preprocess_input as inception_resnet_preinput\n",
    "from sklearn.utils import shuffle\n",
    "from sklearn.model_selection import train_test_split"
   ]
  },
  {
   "cell_type": "code",
   "execution_count": 2,
   "metadata": {},
   "outputs": [],
   "source": [
    "train_dir = \"data/imgs/train2\"\n",
    "val_dir = \"data/imgs/val2\"\n",
    "test_dir = \"data/imgs/test1\"\n",
    "saved_weights_dir = \"saved_weights\""
   ]
  },
  {
   "cell_type": "markdown",
   "metadata": {},
   "source": [
    "加载特征向量"
   ]
  },
  {
   "cell_type": "code",
   "execution_count": 3,
   "metadata": {},
   "outputs": [],
   "source": [
    "def one_hot_encode(y):\n",
    "    l = list()\n",
    "    for item in y:\n",
    "        c = [0. for i in range(10)]\n",
    "        c[item] = 1.\n",
    "        l.append(c)\n",
    "    return np.array(l)"
   ]
  },
  {
   "cell_type": "code",
   "execution_count": 23,
   "metadata": {},
   "outputs": [],
   "source": [
    "premodels = [\n",
    "    \"bottleneck_inception_v3.h5\",\n",
    "    \"bottleneck_xception.h5\",\n",
    "    \"bottleneck_inception_resnet_v2.h5\"\n",
    "]\n",
    "\n",
    "X_train = []\n",
    "X_valid = []\n",
    "\n",
    "for filename in premodels:\n",
    "    with h5py.File(os.path.join(saved_weights_dir, filename), \"r\") as h:\n",
    "        X_train.append(np.array(h[\"train\"]))\n",
    "        X_valid.append(np.array(h[\"valid\"]))\n",
    "        y_train = np.array(h[\"label\"])\n",
    "        y_valid = np.array(h[\"valid_label\"])\n",
    "        \n",
    "X_train = np.concatenate(X_train, axis=1)\n",
    "X_valid = np.concatenate(X_valid, axis=1)\n",
    "\n",
    "X_train, y_train = shuffle(X_train, y_train)\n",
    "y_train = one_hot_encode(y_train)\n",
    "X_valid, y_valid = shuffle(X_valid, y_valid)\n",
    "y_valid = one_hot_encode(y_valid)"
   ]
  },
  {
   "cell_type": "code",
   "execution_count": 24,
   "metadata": {},
   "outputs": [
    {
     "name": "stdout",
     "output_type": "stream",
     "text": [
      "(41850, 5632)\n",
      "(41850, 10)\n"
     ]
    }
   ],
   "source": [
    "print(X_train.shape)\n",
    "print(y_train.shape)"
   ]
  },
  {
   "cell_type": "markdown",
   "metadata": {},
   "source": [
    "构建模型"
   ]
  },
  {
   "cell_type": "code",
   "execution_count": 25,
   "metadata": {},
   "outputs": [],
   "source": [
    "input_tensor = Input(X_train.shape[1:])\n",
    "x = input_tensor\n",
    "x = Dropout(0.5)(x)\n",
    "x = Dense(10, activation='softmax')(x)\n",
    "mix_model = Model(input_tensor, x)\n",
    "\n",
    "op = Adam(lr=0.00001)\n",
    "mix_model.compile(optimizer=op, loss='categorical_crossentropy', metrics=['accuracy'])"
   ]
  },
  {
   "cell_type": "markdown",
   "metadata": {},
   "source": [
    "开始训练"
   ]
  },
  {
   "cell_type": "code",
   "execution_count": 26,
   "metadata": {
    "scrolled": true
   },
   "outputs": [
    {
     "name": "stdout",
     "output_type": "stream",
     "text": [
      "Train on 41850 samples, validate on 1399 samples\n",
      "Epoch 1/40\n",
      "41850/41850 [==============================] - 1s 35us/step - loss: 2.1698 - acc: 0.2635 - val_loss: 1.5150 - val_acc: 0.7105\n",
      "Epoch 2/40\n",
      "41850/41850 [==============================] - 1s 29us/step - loss: 1.0893 - acc: 0.8291 - val_loss: 0.8307 - val_acc: 0.9828\n",
      "Epoch 3/40\n",
      "41850/41850 [==============================] - 1s 30us/step - loss: 0.5618 - acc: 0.9777 - val_loss: 0.5117 - val_acc: 0.9814\n",
      "Epoch 4/40\n",
      "41850/41850 [==============================] - 1s 29us/step - loss: 0.3259 - acc: 0.9893 - val_loss: 0.3587 - val_acc: 0.9786\n",
      "Epoch 5/40\n",
      "41850/41850 [==============================] - 1s 29us/step - loss: 0.2132 - acc: 0.9912 - val_loss: 0.2754 - val_acc: 0.9778\n",
      "Epoch 6/40\n",
      "41850/41850 [==============================] - 1s 29us/step - loss: 0.1519 - acc: 0.9921 - val_loss: 0.2248 - val_acc: 0.9764\n",
      "Epoch 7/40\n",
      "41850/41850 [==============================] - 1s 29us/step - loss: 0.1154 - acc: 0.9923 - val_loss: 0.1914 - val_acc: 0.9750\n",
      "Epoch 8/40\n",
      "41850/41850 [==============================] - 1s 29us/step - loss: 0.0932 - acc: 0.9924 - val_loss: 0.1678 - val_acc: 0.9764\n",
      "Epoch 9/40\n",
      "41850/41850 [==============================] - 1s 29us/step - loss: 0.0764 - acc: 0.9930 - val_loss: 0.1502 - val_acc: 0.9764\n",
      "Epoch 10/40\n",
      "41850/41850 [==============================] - 1s 30us/step - loss: 0.0654 - acc: 0.9933 - val_loss: 0.1373 - val_acc: 0.9764\n",
      "Epoch 11/40\n",
      "41850/41850 [==============================] - 1s 29us/step - loss: 0.0561 - acc: 0.9930 - val_loss: 0.1269 - val_acc: 0.9764\n",
      "Epoch 12/40\n",
      "41850/41850 [==============================] - 1s 29us/step - loss: 0.0490 - acc: 0.9937 - val_loss: 0.1178 - val_acc: 0.9764\n",
      "Epoch 13/40\n",
      "41850/41850 [==============================] - 1s 30us/step - loss: 0.0441 - acc: 0.9935 - val_loss: 0.1112 - val_acc: 0.9764\n",
      "Epoch 14/40\n",
      "41850/41850 [==============================] - 1s 29us/step - loss: 0.0397 - acc: 0.9942 - val_loss: 0.1056 - val_acc: 0.9764\n",
      "Epoch 15/40\n",
      "41850/41850 [==============================] - 1s 29us/step - loss: 0.0366 - acc: 0.9938 - val_loss: 0.0998 - val_acc: 0.9771\n",
      "Epoch 16/40\n",
      "41850/41850 [==============================] - 1s 29us/step - loss: 0.0342 - acc: 0.9938 - val_loss: 0.0956 - val_acc: 0.9771\n",
      "Epoch 17/40\n",
      "41850/41850 [==============================] - 1s 29us/step - loss: 0.0318 - acc: 0.9940 - val_loss: 0.0922 - val_acc: 0.9778\n",
      "Epoch 18/40\n",
      "41850/41850 [==============================] - 1s 29us/step - loss: 0.0293 - acc: 0.9941 - val_loss: 0.0892 - val_acc: 0.9786\n",
      "Epoch 19/40\n",
      "41850/41850 [==============================] - 1s 29us/step - loss: 0.0281 - acc: 0.9940 - val_loss: 0.0871 - val_acc: 0.9786\n",
      "Epoch 20/40\n",
      "41850/41850 [==============================] - 1s 29us/step - loss: 0.0264 - acc: 0.9944 - val_loss: 0.0841 - val_acc: 0.9786\n",
      "Epoch 21/40\n",
      "41850/41850 [==============================] - 1s 29us/step - loss: 0.0253 - acc: 0.9944 - val_loss: 0.0828 - val_acc: 0.9786\n",
      "Epoch 22/40\n",
      "41850/41850 [==============================] - 1s 29us/step - loss: 0.0242 - acc: 0.9944 - val_loss: 0.0802 - val_acc: 0.9793\n",
      "Epoch 23/40\n",
      "41850/41850 [==============================] - 1s 29us/step - loss: 0.0239 - acc: 0.9944 - val_loss: 0.0784 - val_acc: 0.9793\n",
      "Epoch 24/40\n",
      "41850/41850 [==============================] - 1s 29us/step - loss: 0.0228 - acc: 0.9945 - val_loss: 0.0777 - val_acc: 0.9807\n",
      "Epoch 25/40\n",
      "41850/41850 [==============================] - 1s 29us/step - loss: 0.0222 - acc: 0.9944 - val_loss: 0.0753 - val_acc: 0.9800\n",
      "Epoch 26/40\n",
      "41850/41850 [==============================] - 1s 29us/step - loss: 0.0215 - acc: 0.9947 - val_loss: 0.0746 - val_acc: 0.9800\n",
      "Epoch 27/40\n",
      "41850/41850 [==============================] - 1s 29us/step - loss: 0.0209 - acc: 0.9948 - val_loss: 0.0735 - val_acc: 0.9800\n",
      "Epoch 28/40\n",
      "41850/41850 [==============================] - 1s 29us/step - loss: 0.0208 - acc: 0.9949 - val_loss: 0.0717 - val_acc: 0.9800\n",
      "Epoch 29/40\n",
      "41850/41850 [==============================] - 1s 29us/step - loss: 0.0206 - acc: 0.9947 - val_loss: 0.0717 - val_acc: 0.9800\n",
      "Epoch 30/40\n",
      "41850/41850 [==============================] - 1s 29us/step - loss: 0.0203 - acc: 0.9950 - val_loss: 0.0710 - val_acc: 0.9800\n",
      "Epoch 31/40\n",
      "41850/41850 [==============================] - 1s 29us/step - loss: 0.0196 - acc: 0.9948 - val_loss: 0.0706 - val_acc: 0.9800\n",
      "Epoch 32/40\n",
      "41850/41850 [==============================] - 1s 29us/step - loss: 0.0195 - acc: 0.9948 - val_loss: 0.0701 - val_acc: 0.9800\n",
      "Epoch 33/40\n",
      "41850/41850 [==============================] - 1s 29us/step - loss: 0.0194 - acc: 0.9949 - val_loss: 0.0690 - val_acc: 0.9800\n",
      "Epoch 34/40\n",
      "41850/41850 [==============================] - 1s 29us/step - loss: 0.0193 - acc: 0.9946 - val_loss: 0.0689 - val_acc: 0.9800\n",
      "Epoch 35/40\n",
      "41850/41850 [==============================] - 1s 29us/step - loss: 0.0195 - acc: 0.9946 - val_loss: 0.0678 - val_acc: 0.9800\n",
      "Epoch 36/40\n",
      "41850/41850 [==============================] - 1s 29us/step - loss: 0.0185 - acc: 0.9948 - val_loss: 0.0678 - val_acc: 0.9807\n",
      "Epoch 37/40\n",
      "41850/41850 [==============================] - 1s 29us/step - loss: 0.0180 - acc: 0.9952 - val_loss: 0.0667 - val_acc: 0.9807\n",
      "Epoch 38/40\n",
      "41850/41850 [==============================] - 1s 29us/step - loss: 0.0179 - acc: 0.9953 - val_loss: 0.0661 - val_acc: 0.9807\n",
      "Epoch 39/40\n",
      "41850/41850 [==============================] - 1s 29us/step - loss: 0.0177 - acc: 0.9951 - val_loss: 0.0668 - val_acc: 0.9800\n",
      "Epoch 40/40\n",
      "41850/41850 [==============================] - 1s 29us/step - loss: 0.0182 - acc: 0.9951 - val_loss: 0.0658 - val_acc: 0.9800\n"
     ]
    }
   ],
   "source": [
    "epochs = 40\n",
    "batch_size = 128\n",
    "\n",
    "history = mix_model.fit(X_train, y_train, batch_size=batch_size, epochs=epochs, validation_data=(X_valid,y_valid))"
   ]
  },
  {
   "cell_type": "markdown",
   "metadata": {},
   "source": [
    "保存模型"
   ]
  },
  {
   "cell_type": "code",
   "execution_count": 9,
   "metadata": {},
   "outputs": [
    {
     "name": "stdout",
     "output_type": "stream",
     "text": [
      "model will save at: saved_weights/mixed_model.h5\n",
      "save model successed\n"
     ]
    }
   ],
   "source": [
    "save_file = os.path.join(saved_weights_dir, \"mixed_model.h5\")\n",
    "print(\"model will save at:\", save_file)\n",
    "mix_model.save(save_file)\n",
    "print(\"save model successed\")"
   ]
  },
  {
   "cell_type": "code",
   "execution_count": 27,
   "metadata": {},
   "outputs": [
    {
     "data": {
      "image/png": "[encoded data removed]",
      "text/plain": [
       "<Figure size 864x288 with 2 Axes>"
      ]
     },
     "metadata": {},
     "output_type": "display_data"
    }
   ],
   "source": [
    "# 绘制图型\n",
    "plt.figure(figsize=(12, 4))\n",
    "\n",
    "plt.subplot(1, 2, 1)\n",
    "plt.title('Training and validation loss')\n",
    "plt.ylabel('loss')\n",
    "plt.xlabel('epoch')\n",
    "plt.plot(history.history['loss'])\n",
    "plt.plot(history.history['val_loss'])\n",
    "plt.legend(['train', 'test'], loc='upper left')\n",
    "\n",
    "plt.subplot(1, 2, 2)\n",
    "plt.plot(history.history['acc'])\n",
    "plt.plot(history.history['val_acc'])\n",
    "plt.title('Training and validation acc')\n",
    "plt.ylabel('acc')\n",
    "plt.xlabel('epoch')\n",
    "plt.legend(['train', 'test'], loc='upper left')\n",
    "\n",
    "plt.show()"
   ]
  },
  {
   "cell_type": "markdown",
   "metadata": {},
   "source": [
    "开始预测"
   ]
  },
  {
   "cell_type": "markdown",
   "metadata": {},
   "source": [
    "加载测试集特征向量"
   ]
  },
  {
   "cell_type": "code",
   "execution_count": 28,
   "metadata": {},
   "outputs": [
    {
     "name": "stdout",
     "output_type": "stream",
     "text": [
      "Found 79726 images belonging to 1 classes.\n"
     ]
    }
   ],
   "source": [
    "test_premodels = [\n",
    "    \"bottleneck_test_inception_v3.h5\",\n",
    "    \"bottleneck_test_xception.h5\",\n",
    "    \"bottleneck_test_inception_resnet_v2.h5\"\n",
    "]\n",
    "\n",
    "X_test = []\n",
    "\n",
    "for filename in test_premodels:\n",
    "    with h5py.File(os.path.join(saved_weights_dir, filename), 'r') as h:\n",
    "        X_test.append(np.array(h['test']))\n",
    "        \n",
    "X_test = np.concatenate(X_test, axis=1)\n",
    "\n",
    "test_datagen = ImageDataGenerator()\n",
    "test_generator = test_datagen.flow_from_directory(test_dir, (299, 299), shuffle=False, \n",
    "                                         batch_size=128, class_mode=None)"
   ]
  },
  {
   "cell_type": "markdown",
   "metadata": {},
   "source": [
    "预测并输出可提交kaggle的结果文件"
   ]
  },
  {
   "cell_type": "code",
   "execution_count": 29,
   "metadata": {},
   "outputs": [
    {
     "name": "stdout",
     "output_type": "stream",
     "text": [
      "79726/79726 [==============================] - 3s 39us/step\n",
      "y_pred shape (79726, 10)\n",
      "              img        c0     c1        c2     c3     c4     c5     c6  \\\n",
      "0       img_1.jpg  0.005000  0.005  0.005000  0.005  0.005  0.995  0.005   \n",
      "1      img_10.jpg  0.005000  0.005  0.005000  0.005  0.005  0.995  0.005   \n",
      "2     img_100.jpg  0.749197  0.005  0.005000  0.005  0.005  0.005  0.005   \n",
      "3    img_1000.jpg  0.008474  0.005  0.184563  0.005  0.005  0.005  0.005   \n",
      "4  img_100000.jpg  0.005000  0.005  0.005000  0.995  0.005  0.005  0.005   \n",
      "\n",
      "      c7        c8        c9  \n",
      "0  0.005  0.005000  0.005000  \n",
      "1  0.005  0.005000  0.005000  \n",
      "2  0.005  0.150878  0.078891  \n",
      "3  0.005  0.792655  0.006442  \n",
      "4  0.005  0.005000  0.005000  \n",
      "predict done.\n"
     ]
    }
   ],
   "source": [
    "sub_df = pd.read_csv(\"data/sample_submission.csv\")\n",
    "\n",
    "y_preds = mix_model.predict(X_test, verbose=1)\n",
    "y_preds = y_preds.clip(min=0.005, max=0.995)\n",
    "print(\"y_pred shape {}\".format(y_preds.shape))\n",
    "\n",
    "for i, fname in enumerate(test_generator.filenames):\n",
    "    y_pred = y_preds[i]\n",
    "    for k, c in enumerate(y_pred):\n",
    "        sub_df.at[i, 'c'+str(k)] = c\n",
    "\n",
    "print(sub_df.head())\n",
    "\n",
    "sub_df.to_csv('data/mix_pred.csv', index=None)\n",
    "print(\"predict done.\")"
   ]
  }
 ],
 "metadata": {
  "kernelspec": {
   "display_name": "Environment (conda_tensorflow_p36)",
   "language": "python",
   "name": "conda_tensorflow_p36"
  },
  "language_info": {
   "codemirror_mode": {
    "name": "ipython",
    "version": 3
   },
   "file_extension": ".py",
   "mimetype": "text/x-python",
   "name": "python",
   "nbconvert_exporter": "python",
   "pygments_lexer": "ipython3",
   "version": "3.6.4"
  }
 },
 "nbformat": 4,
 "nbformat_minor": 2
}
