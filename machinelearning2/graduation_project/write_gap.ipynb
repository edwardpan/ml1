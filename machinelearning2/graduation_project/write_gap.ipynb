{
 "cells": [
  {
   "cell_type": "markdown",
   "metadata": {},
   "source": [
    "模型融合训练，融合InceptionV3、Xception、InceptionResNetV2"
   ]
  },
  {
   "cell_type": "code",
   "execution_count": 21,
   "metadata": {},
   "outputs": [],
   "source": [
    "import numpy as np\n",
    "np.random.seed(19906)\n",
    "import pandas as pd\n",
    "import matplotlib.pyplot as plt\n",
    "from tqdm import tqdm\n",
    "from keras.preprocessing import image\n",
    "import cv2\n",
    "import os\n",
    "import h5py\n",
    "%matplotlib inline\n",
    "from keras.preprocessing.image import ImageDataGenerator, array_to_img, img_to_array, load_img\n",
    "from keras.callbacks import EarlyStopping\n",
    "from keras.models import *\n",
    "from keras.layers import *\n",
    "from keras.layers.core import Dropout\n",
    "from keras.optimizers import Adam, SGD, RMSprop\n",
    "from keras.regularizers import l2\n",
    "from keras.applications.inception_v3 import InceptionV3, preprocess_input as inceptionv3_preinput\n",
    "from keras.applications.xception import Xception, preprocess_input as xception_preinput\n",
    "from keras.applications.inception_resnet_v2 import InceptionResNetV2, preprocess_input as inception_resnet_preinput"
   ]
  },
  {
   "cell_type": "code",
   "execution_count": 18,
   "metadata": {},
   "outputs": [],
   "source": [
    "train_dir = \"data/imgs/train2\"\n",
    "val_dir = \"data/imgs/val2\"\n",
    "test_dir = \"data/imgs/test1\"\n",
    "saved_weights_dir = \"saved_weights\"\n",
    "batch_size = 128"
   ]
  },
  {
   "cell_type": "code",
   "execution_count": 19,
   "metadata": {},
   "outputs": [],
   "source": [
    "def write_gap(MODEL, weight_file, image_size, preprocess_fun=None):\n",
    "    input_tensor = Input((*image_size, 3))\n",
    "    base_model = MODEL(input_tensor=input_tensor, weights=None, include_top=False)\n",
    "    \n",
    "    model = Model(inputs=base_model.input, outputs=GlobalAveragePooling2D()(base_model.output), name=base_model.name)\n",
    "    weights_path = os.path.join(saved_weights_dir, weight_file)\n",
    "    model.load_weights(weights_path, by_name=True)\n",
    "    print(\"loaded model weights: \", model.name, \", weights path:\", weights_path)\n",
    "    \n",
    "    # 训练集图像生成器\n",
    "    train_datagen = ImageDataGenerator(\n",
    "        preprocessing_function=preprocess_fun,\n",
    "        rotation_range=10.,\n",
    "        width_shift_range=0.05,\n",
    "        height_shift_range=0.05,\n",
    "        shear_range=0.1,\n",
    "        zoom_range=0.1,\n",
    "        rescale=1./255\n",
    "    )\n",
    "\n",
    "    # 验证集图像生成器\n",
    "    val_datagen = ImageDataGenerator(\n",
    "        preprocessing_function=preprocess_fun,\n",
    "        rescale=1./255)\n",
    "    \n",
    "    test_datagen = ImageDataGenerator(preprocessing_function=preprocess_fun, rescale=1./255)\n",
    "    \n",
    "    train_generator = train_datagen.flow_from_directory(\n",
    "        train_dir,\n",
    "        target_size=image_size,\n",
    "        batch_size=batch_size,\n",
    "        shuffle=False,\n",
    "        class_mode='categorical')\n",
    "\n",
    "    val_generator = val_datagen.flow_from_directory(\n",
    "        val_dir,\n",
    "        target_size=image_size,\n",
    "        batch_size=batch_size,\n",
    "        shuffle=False,\n",
    "        class_mode='categorical')\n",
    "    \n",
    "    test_generator = test_datagen.flow_from_directory(test_dir, image_size, shuffle=False, \n",
    "                                             batch_size=batch_size, class_mode=None)\n",
    "    \n",
    "    train = model.predict_generator(train_generator, verbose=1)\n",
    "    valid = model.predict_generator(val_generator, verbose=1)\n",
    "    \n",
    "    print(\"begin create bottleneck file:\")\n",
    "    with h5py.File(os.path.join(saved_weights_dir, \"bottleneck_%s.h5\") % model.name) as h:\n",
    "        h.create_dataset(\"train\", data=train)\n",
    "        h.create_dataset(\"valid\", data=valid)\n",
    "        h.create_dataset(\"label\", data=train_generator.classes)\n",
    "        h.create_dataset(\"valid_label\", data=valid_generator.classes)\n",
    "    print(\"create bottleneck file done for model: \", model.name)\n",
    "    \n",
    "    test = model.predict_generator(test_generator, verbose=1)\n",
    "    \n",
    "    print(\"begin create test bottleneck file:\")\n",
    "    with h5py.File(os.path.join(saved_weights_dir, \"bottleneck_test_%s.h5\") % model.name) as h:\n",
    "        h.create_dataset(\"test\", data=test)\n",
    "    print(\"create test bottleneck file done for model: \", model.name)"
   ]
  },
  {
   "cell_type": "code",
   "execution_count": null,
   "metadata": {},
   "outputs": [
    {
     "name": "stdout",
     "output_type": "stream",
     "text": [
      "loaded model weights:  inception_v3 , weights path: saved_weights/inception_v3_model.h5\n",
      "Found 41850 images belonging to 10 classes.\n",
      "Found 1399 images belonging to 10 classes.\n",
      "Found 79726 images belonging to 1 classes.\n",
      "268/327 [=======================>......] - ETA: 5:12"
     ]
    }
   ],
   "source": [
    "write_gap(InceptionV3, \"inception_v3_model.h5\", (299, 299), inceptionv3_preinput)\n",
    "write_gap(Xception, \"xception_model.h5\", (299, 299), xception_preinput)\n",
    "write_gap(InceptionResNetV2, \"inception_resnet_v2_model.h5\", (299, 299), inception_resnet_preinput)"
   ]
  }
 ],
 "metadata": {
  "anaconda-cloud": {},
  "kernelspec": {
   "display_name": "Environment (conda_tensorflow_p36)",
   "language": "python",
   "name": "conda_tensorflow_p36"
  },
  "language_info": {
   "codemirror_mode": {
    "name": "ipython",
    "version": 3
   },
   "file_extension": ".py",
   "mimetype": "text/x-python",
   "name": "python",
   "nbconvert_exporter": "python",
   "pygments_lexer": "ipython3",
   "version": "3.6.4"
  }
 },
 "nbformat": 4,
 "nbformat_minor": 2
}
