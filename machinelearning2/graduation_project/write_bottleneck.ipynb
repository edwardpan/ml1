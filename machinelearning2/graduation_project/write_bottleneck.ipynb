{
 "cells": [
  {
   "cell_type": "markdown",
   "metadata": {},
   "source": [
    "模型融合训练，融合InceptionV3、Xception、InceptionResNetV2"
   ]
  },
  {
   "cell_type": "code",
   "execution_count": 1,
   "metadata": {},
   "outputs": [
    {
     "name": "stderr",
     "output_type": "stream",
     "text": [
      "Using TensorFlow backend.\n"
     ]
    }
   ],
   "source": [
    "import numpy as np\n",
    "np.random.seed(19906)\n",
    "import pandas as pd\n",
    "import matplotlib.pyplot as plt\n",
    "from tqdm import tqdm\n",
    "from keras.preprocessing import image\n",
    "import cv2\n",
    "import os\n",
    "import shutil\n",
    "import h5py\n",
    "%matplotlib inline\n",
    "from keras.preprocessing.image import ImageDataGenerator, array_to_img, img_to_array, load_img\n",
    "from keras.callbacks import EarlyStopping\n",
    "from keras.models import *\n",
    "from keras.layers import *\n",
    "from keras.layers.core import Dropout\n",
    "from keras.optimizers import Adam, SGD, RMSprop\n",
    "from keras.regularizers import l2\n",
    "from keras.applications.inception_v3 import InceptionV3, preprocess_input as inceptionv3_preinput\n",
    "from keras.applications.xception import Xception, preprocess_input as xception_preinput\n",
    "from keras.applications.inception_resnet_v2 import InceptionResNetV2, preprocess_input as inception_resnet_preinput"
   ]
  },
  {
   "cell_type": "markdown",
   "metadata": {},
   "source": [
    "选择作为验证集的司机ID"
   ]
  },
  {
   "cell_type": "code",
   "execution_count": 2,
   "metadata": {},
   "outputs": [
    {
     "name": "stdout",
     "output_type": "stream",
     "text": [
      "选择作为验证集的司机ID: ['p021', 'p072']\n"
     ]
    }
   ],
   "source": [
    "drivers_pd = pd.read_csv(\"data/drivers_img_nop081_list.csv\")\n",
    "imgs_pd = drivers_pd[\"img\"]\n",
    "class_pd = drivers_pd[\"classname\"]\n",
    "subject_pd = drivers_pd[\"subject\"]\n",
    "# choices = np.random.choice(drivers_pd[\"subject\"].drop_duplicates(), 2)\n",
    "choices = ['p021', 'p072']\n",
    "print(\"选择作为验证集的司机ID:\", choices)"
   ]
  },
  {
   "cell_type": "markdown",
   "metadata": {},
   "source": [
    "按选择的司机ID分割训练集和验证集"
   ]
  },
  {
   "cell_type": "code",
   "execution_count": 3,
   "metadata": {},
   "outputs": [
    {
     "name": "stdout",
     "output_type": "stream",
     "text": [
      "分割的训练集数量: 20741 ，验证集数量: 1583\n"
     ]
    }
   ],
   "source": [
    "val_index = []\n",
    "for choice in choices:\n",
    "    val_index.extend(subject_pd[subject_pd == choice].index.tolist())\n",
    "    \n",
    "test_mask = np.zeros(np.alen(subject_pd), dtype=np.bool)\n",
    "for val_i in val_index:\n",
    "    test_mask[val_i] = True\n",
    "    \n",
    "train_index = subject_pd[np.logical_not(test_mask)].index\n",
    "print(\"分割的训练集数量:\", np.alen(train_index), \"，验证集数量:\", np.alen(val_index))"
   ]
  },
  {
   "cell_type": "markdown",
   "metadata": {},
   "source": [
    "创建图像数据处理目录"
   ]
  },
  {
   "cell_type": "code",
   "execution_count": 4,
   "metadata": {},
   "outputs": [],
   "source": [
    "def rmrf_mkdir(dirname):\n",
    "    if os.path.exists(dirname):\n",
    "        shutil.rmtree(dirname)\n",
    "    os.mkdir(dirname)\n",
    "\n",
    "train_dir = \"data/imgs/train2\"\n",
    "val_dir = \"data/imgs/val2\"\n",
    "test_dir = \"data/imgs/test1\"\n",
    "saved_weights_dir = \"saved_weights\"\n",
    "if not os.path.exists(saved_weights_dir):\n",
    "    os.mkdir(saved_weights_dir)\n",
    "\n",
    "\n",
    "# 因为加载测试集时目录中也需要有子目录，将data/imgs/test目录软链接到data/imgs/test1/test\n",
    "if not os.path.exists(test_dir):\n",
    "    os.mkdir(test_dir)\n",
    "    os.symlink('../test', test_dir+\"/test\")\n",
    "\n",
    "# 在新的训练或验证集目录中为图片创建到原位置的链接\n",
    "def link_imgs(target_dir, X, y):\n",
    "    for img_name, target in zip(X, y):\n",
    "        symlink_dir = os.path.join(target_dir, target)\n",
    "        if not os.path.exists(symlink_dir):\n",
    "            os.mkdir(symlink_dir)\n",
    "        os.symlink('../../train/'+target+'/'+img_name, symlink_dir+'/'+img_name)"
   ]
  },
  {
   "cell_type": "markdown",
   "metadata": {},
   "source": [
    "数据准备"
   ]
  },
  {
   "cell_type": "code",
   "execution_count": 5,
   "metadata": {},
   "outputs": [
    {
     "name": "stdout",
     "output_type": "stream",
     "text": [
      "split valid data done!\n"
     ]
    }
   ],
   "source": [
    "# 删除上次分离出的训练集和验证集文件，并重新创建目录\n",
    "rmrf_mkdir(train_dir)\n",
    "rmrf_mkdir(val_dir)\n",
    "\n",
    "X_train, X_val = imgs_pd[train_index], imgs_pd[val_index]\n",
    "y_train, y_val = class_pd[train_index], class_pd[val_index]\n",
    "\n",
    "# 链接训练集到新的目录中\n",
    "link_imgs(train_dir, X_train, y_train)\n",
    "\n",
    "# 链接验证集到新的目录中\n",
    "link_imgs(val_dir, X_val, y_val)\n",
    "\n",
    "print(\"split valid data done!\")"
   ]
  },
  {
   "cell_type": "markdown",
   "metadata": {},
   "source": [
    "定义特征提取方法"
   ]
  },
  {
   "cell_type": "code",
   "execution_count": 6,
   "metadata": {},
   "outputs": [],
   "source": [
    "batch_size = 128\n",
    "\n",
    "def write_bottleneck(MODEL, weight_file, image_size, preprocess_fun=None):\n",
    "    input_tensor = Input((*image_size, 3))\n",
    "    base_model = MODEL(input_tensor=input_tensor, weights=None, include_top=False)\n",
    "    \n",
    "    model = Model(inputs=base_model.input, outputs=GlobalAveragePooling2D()(base_model.output), name=base_model.name)\n",
    "    weights_path = os.path.join(saved_weights_dir, weight_file)\n",
    "    model.load_weights(weights_path, by_name=True)\n",
    "    print(\"loaded model weights: \", model.name, \", weights path:\", weights_path)\n",
    "    \n",
    "    # 训练集图像生成器\n",
    "    train_datagen = ImageDataGenerator(\n",
    "        preprocessing_function=preprocess_fun,\n",
    "        rotation_range=10.,\n",
    "        width_shift_range=0.05,\n",
    "        height_shift_range=0.05,\n",
    "        shear_range=0.1,\n",
    "        zoom_range=0.1,\n",
    "        rescale=1./255\n",
    "    )\n",
    "\n",
    "    # 验证集图像生成器\n",
    "    val_datagen = ImageDataGenerator(\n",
    "        preprocessing_function=preprocess_fun,\n",
    "        rescale=1./255)\n",
    "    \n",
    "    test_datagen = ImageDataGenerator(preprocessing_function=preprocess_fun, rescale=1./255)\n",
    "    \n",
    "    train_generator = train_datagen.flow_from_directory(\n",
    "        train_dir,\n",
    "        target_size=image_size,\n",
    "        batch_size=batch_size,\n",
    "        shuffle=False,\n",
    "        class_mode='categorical')\n",
    "\n",
    "    val_generator = val_datagen.flow_from_directory(\n",
    "        val_dir,\n",
    "        target_size=image_size,\n",
    "        batch_size=batch_size,\n",
    "        shuffle=False,\n",
    "        class_mode='categorical')\n",
    "    \n",
    "    test_generator = test_datagen.flow_from_directory(test_dir, image_size, shuffle=False, \n",
    "                                             batch_size=batch_size, class_mode=None)\n",
    "    \n",
    "    train = model.predict_generator(train_generator, verbose=1)\n",
    "    valid = model.predict_generator(val_generator, verbose=1)\n",
    "    \n",
    "    print(\"begin create bottleneck file:\")\n",
    "    file = os.path.join(saved_weights_dir, \"bottleneck_noaug_%s.h5\") % model.name\n",
    "    if os.path.exists(file):\n",
    "        os.remove(file)\n",
    "    with h5py.File(file) as h:\n",
    "        h.create_dataset(\"train\", data=train)\n",
    "        h.create_dataset(\"valid\", data=valid)\n",
    "        h.create_dataset(\"label\", data=train_generator.classes)\n",
    "        h.create_dataset(\"valid_label\", data=val_generator.classes)\n",
    "    print(\"create bottleneck file done for model: \", model.name)\n",
    "    \n",
    "    test = model.predict_generator(test_generator, verbose=1)\n",
    "    \n",
    "    file = os.path.join(saved_weights_dir, \"bottleneck_test_%s.h5\") % model.name\n",
    "    if os.path.exists(file):\n",
    "        os.remove(file)\n",
    "    print(\"begin create test bottleneck file:\")\n",
    "    with h5py.File(file) as h:\n",
    "        h.create_dataset(\"test\", data=test)\n",
    "    print(\"create test bottleneck file done for model: \", model.name)"
   ]
  },
  {
   "cell_type": "code",
   "execution_count": 7,
   "metadata": {},
   "outputs": [
    {
     "name": "stdout",
     "output_type": "stream",
     "text": [
      "loaded model weights:  inception_v3 , weights path: saved_weights/inception_v3_model.h5\n",
      "Found 20741 images belonging to 10 classes.\n",
      "Found 1583 images belonging to 10 classes.\n",
      "Found 79726 images belonging to 1 classes.\n",
      "163/163 [==============================] - 513s 3s/step\n",
      "13/13 [==============================] - 13s 1s/step\n",
      "begin create bottleneck file:\n",
      "create bottleneck file done for model:  inception_v3\n",
      "623/623 [==============================] - 549s 881ms/step\n",
      "begin create test bottleneck file:\n",
      "create test bottleneck file done for model:  inception_v3\n"
     ]
    }
   ],
   "source": [
    "write_bottleneck(InceptionV3, \"inception_v3_model.h5\", (299, 299), inceptionv3_preinput)"
   ]
  },
  {
   "cell_type": "code",
   "execution_count": 8,
   "metadata": {},
   "outputs": [
    {
     "name": "stdout",
     "output_type": "stream",
     "text": [
      "loaded model weights:  xception , weights path: saved_weights/xception_model.h5\n",
      "Found 20741 images belonging to 10 classes.\n",
      "Found 1583 images belonging to 10 classes.\n",
      "Found 79726 images belonging to 1 classes.\n",
      "163/163 [==============================] - 529s 3s/step\n",
      "13/13 [==============================] - 14s 1s/step\n",
      "begin create bottleneck file:\n",
      "create bottleneck file done for model:  xception\n",
      "623/623 [==============================] - 570s 915ms/step\n",
      "begin create test bottleneck file:\n",
      "create test bottleneck file done for model:  xception\n"
     ]
    }
   ],
   "source": [
    "write_bottleneck(Xception, \"xception_model.h5\", (299, 299), xception_preinput)"
   ]
  },
  {
   "cell_type": "code",
   "execution_count": 7,
   "metadata": {},
   "outputs": [
    {
     "name": "stdout",
     "output_type": "stream",
     "text": [
      "loaded model weights:  inception_resnet_v2 , weights path: saved_weights/inception_resnet_v2_model.h5\n",
      "Found 20741 images belonging to 10 classes.\n",
      "Found 1583 images belonging to 10 classes.\n",
      "Found 79726 images belonging to 1 classes.\n",
      "163/163 [==============================] - 581s 4s/step\n",
      "13/13 [==============================] - 15s 1s/step\n",
      "begin create bottleneck file:\n",
      "create bottleneck file done for model:  inception_resnet_v2\n",
      "623/623 [==============================] - 607s 975ms/step\n",
      "begin create test bottleneck file:\n",
      "create test bottleneck file done for model:  inception_resnet_v2\n"
     ]
    }
   ],
   "source": [
    "write_bottleneck(InceptionResNetV2, \"inception_resnet_v2_model.h5\", (299, 299), inception_resnet_preinput)"
   ]
  },
  {
   "cell_type": "markdown",
   "metadata": {},
   "source": [
    "结束"
   ]
  }
 ],
 "metadata": {
  "anaconda-cloud": {},
  "kernelspec": {
   "display_name": "Environment (conda_tensorflow_p36)",
   "language": "python",
   "name": "conda_tensorflow_p36"
  },
  "language_info": {
   "codemirror_mode": {
    "name": "ipython",
    "version": 3
   },
   "file_extension": ".py",
   "mimetype": "text/x-python",
   "name": "python",
   "nbconvert_exporter": "python",
   "pygments_lexer": "ipython3",
   "version": "3.6.4"
  }
 },
 "nbformat": 4,
 "nbformat_minor": 2
}
